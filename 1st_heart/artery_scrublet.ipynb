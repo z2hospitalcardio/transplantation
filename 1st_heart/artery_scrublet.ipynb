{
 "cells": [
  {
   "cell_type": "code",
   "execution_count": 1,
   "id": "415a2286",
   "metadata": {},
   "outputs": [],
   "source": [
    "import scrublet as scr\n",
    "import scipy.io\n",
    "import matplotlib.pyplot as plt\n",
    "import numpy as np\n",
    "import os\n",
    "import pandas as pd"
   ]
  },
  {
   "cell_type": "code",
   "execution_count": 2,
   "id": "54904524",
   "metadata": {},
   "outputs": [
    {
     "name": "stdout",
     "output_type": "stream",
     "text": [
      "Preprocessing...\n",
      "Simulating doublets...\n",
      "Embedding transcriptomes using PCA...\n",
      "Calculating doublet scores...\n",
      "Automatically set threshold at doublet score = 0.62\n",
      "Detected doublet rate = 19.3%\n",
      "Estimated detectable doublet fraction = 53.1%\n",
      "Overall doublet rate:\n",
      "\tExpected   = 50.0%\n",
      "\tEstimated  = 36.4%\n",
      "Elapsed time: 24.0 seconds\n",
      "Preprocessing...\n",
      "Simulating doublets...\n",
      "Embedding transcriptomes using PCA...\n",
      "Calculating doublet scores...\n",
      "Automatically set threshold at doublet score = 0.67\n",
      "Detected doublet rate = 21.0%\n",
      "Estimated detectable doublet fraction = 46.2%\n",
      "Overall doublet rate:\n",
      "\tExpected   = 50.0%\n",
      "\tEstimated  = 45.6%\n",
      "Elapsed time: 91.4 seconds\n",
      "Preprocessing...\n",
      "Simulating doublets...\n",
      "Embedding transcriptomes using PCA...\n",
      "Calculating doublet scores...\n",
      "Automatically set threshold at doublet score = 0.74\n",
      "Detected doublet rate = 4.5%\n",
      "Estimated detectable doublet fraction = 38.9%\n",
      "Overall doublet rate:\n",
      "\tExpected   = 50.0%\n",
      "\tEstimated  = 11.6%\n",
      "Elapsed time: 40.7 seconds\n",
      "Preprocessing...\n",
      "Simulating doublets...\n",
      "Embedding transcriptomes using PCA...\n",
      "Calculating doublet scores...\n",
      "Automatically set threshold at doublet score = 0.63\n",
      "Detected doublet rate = 21.6%\n",
      "Estimated detectable doublet fraction = 54.8%\n",
      "Overall doublet rate:\n",
      "\tExpected   = 50.0%\n",
      "\tEstimated  = 39.4%\n",
      "Elapsed time: 48.9 seconds\n"
     ]
    }
   ],
   "source": [
    "input_dir = '/home/zeyy/dev/sdd/artery/'\n",
    "pos=['cx','ladb','na','rca']\n",
    "for i in pos:\n",
    "    #barcodes = np.array(pd.read_csv(input_dir +i+ '/barcodes.tsv', header = None, index_col=None))\n",
    "    #!gzip -dc input_dir + i + '/features.tsv.gz' > input_dir +i +'/features.tsv'\n",
    "    genes = np.array(scr.load_genes(input_dir + i + '/features.tsv', delimiter='\\t', column=1))\n",
    "    out_df = pd.read_csv(input_dir + i + '/barcodes.tsv', header = None, index_col=None, names=['barcode'])\n",
    "    \n",
    "    counts_matrix = scipy.io.mmread(input_dir +i+ '/matrix.mtx').T.tocsc()\n",
    "    scrub = scr.Scrublet(counts_matrix,expected_doublet_rate=0.5,sim_doublet_ratio=5)\n",
    "    doublet_scores, predicted_doublets = scrub.scrub_doublets()\n",
    "    \n",
    "    out_df['doublet_scores'] = doublet_scores\n",
    "    out_df['predicted_doublets'] = predicted_doublets\n",
    "    out_df.to_csv('/home/kxm/pyh/result/' + i + '_doublet_strict.csv', index=False,header=True)\n",
    "    "
   ]
  },
  {
   "cell_type": "code",
   "execution_count": 3,
   "id": "74ea9315",
   "metadata": {},
   "outputs": [
    {
     "data": {
      "text/html": [
       "<div>\n",
       "<style scoped>\n",
       "    .dataframe tbody tr th:only-of-type {\n",
       "        vertical-align: middle;\n",
       "    }\n",
       "\n",
       "    .dataframe tbody tr th {\n",
       "        vertical-align: top;\n",
       "    }\n",
       "\n",
       "    .dataframe thead th {\n",
       "        text-align: right;\n",
       "    }\n",
       "</style>\n",
       "<table border=\"1\" class=\"dataframe\">\n",
       "  <thead>\n",
       "    <tr style=\"text-align: right;\">\n",
       "      <th></th>\n",
       "      <th>barcode</th>\n",
       "      <th>doublet_scores</th>\n",
       "      <th>predicted_doublets</th>\n",
       "    </tr>\n",
       "  </thead>\n",
       "  <tbody>\n",
       "    <tr>\n",
       "      <th>0</th>\n",
       "      <td>AAACCCAAGATACGAT-1</td>\n",
       "      <td>0.739583</td>\n",
       "      <td>True</td>\n",
       "    </tr>\n",
       "    <tr>\n",
       "      <th>1</th>\n",
       "      <td>AAACCCAAGCAACCAG-1</td>\n",
       "      <td>0.642857</td>\n",
       "      <td>True</td>\n",
       "    </tr>\n",
       "    <tr>\n",
       "      <th>2</th>\n",
       "      <td>AAACCCAAGCACACCC-1</td>\n",
       "      <td>0.501582</td>\n",
       "      <td>False</td>\n",
       "    </tr>\n",
       "    <tr>\n",
       "      <th>3</th>\n",
       "      <td>AAACCCAAGCGGGTTA-1</td>\n",
       "      <td>0.469697</td>\n",
       "      <td>False</td>\n",
       "    </tr>\n",
       "    <tr>\n",
       "      <th>4</th>\n",
       "      <td>AAACCCAAGGTTGTTC-1</td>\n",
       "      <td>0.536424</td>\n",
       "      <td>False</td>\n",
       "    </tr>\n",
       "  </tbody>\n",
       "</table>\n",
       "</div>"
      ],
      "text/plain": [
       "              barcode  doublet_scores  predicted_doublets\n",
       "0  AAACCCAAGATACGAT-1        0.739583                True\n",
       "1  AAACCCAAGCAACCAG-1        0.642857                True\n",
       "2  AAACCCAAGCACACCC-1        0.501582               False\n",
       "3  AAACCCAAGCGGGTTA-1        0.469697               False\n",
       "4  AAACCCAAGGTTGTTC-1        0.536424               False"
      ]
     },
     "execution_count": 3,
     "metadata": {},
     "output_type": "execute_result"
    }
   ],
   "source": [
    "out_df.head()"
   ]
  },
  {
   "cell_type": "code",
   "execution_count": null,
   "id": "ad4da012",
   "metadata": {},
   "outputs": [],
   "source": []
  }
 ],
 "metadata": {
  "kernelspec": {
   "display_name": "Python [conda env:root] *",
   "language": "python",
   "name": "conda-root-py"
  },
  "language_info": {
   "codemirror_mode": {
    "name": "ipython",
    "version": 3
   },
   "file_extension": ".py",
   "mimetype": "text/x-python",
   "name": "python",
   "nbconvert_exporter": "python",
   "pygments_lexer": "ipython3",
   "version": "3.8.5"
  }
 },
 "nbformat": 4,
 "nbformat_minor": 5
}
